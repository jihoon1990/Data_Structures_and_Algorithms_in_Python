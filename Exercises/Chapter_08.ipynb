{
 "cells": [
  {
   "cell_type": "markdown",
   "metadata": {},
   "source": [
    "# Chapter 08"
   ]
  },
  {
   "cell_type": "code",
   "execution_count": 1,
   "metadata": {},
   "outputs": [],
   "source": [
    "import numpy as np\n",
    "import time\n",
    "import matplotlib.pyplot as plt"
   ]
  },
  {
   "cell_type": "markdown",
   "metadata": {},
   "source": [
    "## Exercises"
   ]
  },
  {
   "cell_type": "markdown",
   "metadata": {},
   "source": [
    "### R-8.1"
   ]
  },
  {
   "cell_type": "markdown",
   "metadata": {},
   "source": [
    "The following questions refer to the tree of Figure 8.3."
   ]
  },
  {
   "cell_type": "markdown",
   "metadata": {},
   "source": [
    "#### (a) Which node is the root?"
   ]
  },
  {
   "cell_type": "markdown",
   "metadata": {},
   "source": [
    "`/user/rt/courses/`"
   ]
  },
  {
   "cell_type": "markdown",
   "metadata": {},
   "source": [
    "#### (b) What are the internal nodes?"
   ]
  },
  {
   "cell_type": "markdown",
   "metadata": {},
   "source": [
    "*Internal* nodes are nodes which have one or more children.\n",
    "\n",
    "* `/user/rt/courses/`\n",
    "* `cs016/`\n",
    "* `cs252/`\n",
    "* `homeworks/`\n",
    "* `programs/`\n",
    "* `projects/`\n",
    "* `papers/`\n",
    "* `demos/`"
   ]
  },
  {
   "cell_type": "markdown",
   "metadata": {},
   "source": [
    "#### (c) How many descendants does node `cs016/` have?"
   ]
  },
  {
   "cell_type": "markdown",
   "metadata": {},
   "source": [
    "There are 10 descendants, `cs016/`, `grades`, `homeworks/`, `programs/`, `hw1`, `hw2`, `hw3`, `pr1`, `pr2`, `pr3`"
   ]
  },
  {
   "cell_type": "markdown",
   "metadata": {},
   "source": [
    "#### (d) How many ancestors does node `cs016/` have?"
   ]
  },
  {
   "cell_type": "markdown",
   "metadata": {},
   "source": [
    "There are ***two*** ancestors. (`cs016/` and `/user/rt/courses/`)\n",
    "\n",
    "Be aware that by the definition of ***ancestor***, a node is an ancestor of itself.\n",
    "\n",
    ">A node $u$ is an ***ancestor*** of a node $v$ if $u = v$ or $u$ is an ancestor of the parent of $v$."
   ]
  },
  {
   "cell_type": "markdown",
   "metadata": {},
   "source": [
    "#### (e) What are the siblings of node `homeworks/`?"
   ]
  },
  {
   "cell_type": "markdown",
   "metadata": {},
   "source": [
    "`grades` and `programs/`"
   ]
  },
  {
   "cell_type": "markdown",
   "metadata": {},
   "source": [
    "#### (f) Which nodes are in the subtree rooted at node `projects/`?"
   ]
  },
  {
   "cell_type": "markdown",
   "metadata": {},
   "source": [
    "6 nodes: `projects/`, `papers/`, `demos/`, `buylow`, `sellhigh`, `market`"
   ]
  },
  {
   "cell_type": "markdown",
   "metadata": {},
   "source": [
    "#### (g) What is the `depth` of node `papers/`?"
   ]
  },
  {
   "cell_type": "markdown",
   "metadata": {},
   "source": [
    "3"
   ]
  },
  {
   "cell_type": "markdown",
   "metadata": {},
   "source": [
    "#### (h) What is the height of the tree?"
   ]
  },
  {
   "cell_type": "markdown",
   "metadata": {},
   "source": [
    "4"
   ]
  },
  {
   "cell_type": "markdown",
   "metadata": {},
   "source": [
    "## R-8.3 & C-8.33"
   ]
  },
  {
   "cell_type": "markdown",
   "metadata": {},
   "source": [
    "#### Let $T$ be a (possibly improper) binary tree with $n$ nodes, and let $D$ be the sum of the depths of all the external nodes of $T$. Describe a configuration for $T$ such that $D$ is $\\Omega(n^2)$. Such a tree would be the worst case for the asymptotic running time of method `_height1` (Code Fragment 8.4)."
   ]
  },
  {
   "cell_type": "markdown",
   "metadata": {},
   "source": [
    "It tree is an improper tree like:\n",
    "\n",
    "![improper_tree](../images/improper_tree.png)\n",
    "\n",
    "`height1`'s running time is $O(n + \\sum_{p \\in L} (d_p + 1))$.\n",
    "\n",
    "The first term $n$ accounts for the number of nodes for comparing maximum values. And the second summation term depends on tree structures. If tree structure is like above, the number of nodes at leaf is proportional to $n/2$, and depth $d_p$ also proportional to $n/2$, which yields the worst case running time to be $O(n^2)$. This is very inefficient since it needs to query all nodes in a tree. (Each node will be visited multiple times!)"
   ]
  },
  {
   "cell_type": "markdown",
   "metadata": {},
   "source": [
    "### R-8.4"
   ]
  },
  {
   "cell_type": "markdown",
   "metadata": {},
   "source": [
    "#### What is the running time of a call to `T._height2(p)` when called on a position `p` distinct from the root of `T`? (See Code Fragment 8.5)"
   ]
  },
  {
   "cell_type": "markdown",
   "metadata": {},
   "source": [
    "> Code Fragment 8.5\n",
    "> ```python\n",
    "> def _height2(self, p):\n",
    ">      \"\"\"Return the height of the subtree rooted at Position p.\"\"\"\n",
    ">    if self.is_leaf(p):\n",
    ">        return 0\n",
    ">    else:\n",
    ">        return 1 + max(self._height2(c) for c in self.children(p))\n",
    "> ```"
   ]
  },
  {
   "cell_type": "markdown",
   "metadata": {},
   "source": [
    "The worst-case time will be $O(n)$. (All nodes form a single branch)"
   ]
  },
  {
   "cell_type": "markdown",
   "metadata": {},
   "source": [
    "---"
   ]
  },
  {
   "cell_type": "code",
   "execution_count": 27,
   "metadata": {},
   "outputs": [],
   "source": [
    "from abc import ABC, abstractmethod\n",
    "\n",
    "class Tree(ABC):\n",
    "    \"\"\"Abstract base class representing a tree structure.\"\"\"\n",
    "    \n",
    "    class Position(ABC):\n",
    "        \"\"\"An abstraction representing the location of a single element.\"\"\"\n",
    "        \n",
    "        @abstractmethod\n",
    "        def element(self):\n",
    "            \"\"\"Return the element stored at this Position.\"\"\"\n",
    "            pass\n",
    "        \n",
    "        @abstractmethod\n",
    "        def __eq__(self, other):\n",
    "            \"\"\"Return True if other Position represents the same location.\"\"\"\n",
    "            pass\n",
    "        \n",
    "        def __ne__(self, other):\n",
    "            \"\"\"Return True if other does not represent the same location.\"\"\"\n",
    "            return not (self == other)\n",
    "\n",
    "    @abstractmethod\n",
    "    def root(self):\n",
    "        \"\"\"Return Position representing the tree's root (or None if empty).\"\"\"\n",
    "        pass\n",
    "    \n",
    "    @abstractmethod\n",
    "    def parent(self, p):\n",
    "        \"\"\"Return Position representing p's parent (or None if p is root).\"\"\"\n",
    "        pass\n",
    "    \n",
    "    @abstractmethod\n",
    "    def num_children(self, p):\n",
    "        \"\"\"Return the number of children that Position p has.\"\"\"\n",
    "        pass\n",
    "    \n",
    "    @abstractmethod\n",
    "    def children(self, p):\n",
    "        \"\"\"Generate an iteration of Positions representing p's children.\"\"\"\n",
    "        pass\n",
    "    \n",
    "    @abstractmethod\n",
    "    def __len__(self):\n",
    "        \"\"\"Return the total number of elements in the tree.\"\"\"\n",
    "        pass\n",
    "    \n",
    "    def is_root(self, p):\n",
    "        \"\"\"Return True if Position p represents the root of the tree.\"\"\"\n",
    "        return self.root() == p\n",
    "    \n",
    "    def is_leaf(self, p):\n",
    "        \"\"\"Return True if Position p does not have any children.\"\"\"\n",
    "        return self.num_children(p) == 0\n",
    "    \n",
    "    def is_empty(self):\n",
    "        \"\"\"Return True if the tree is empty.\"\"\"\n",
    "        return len(self) == 0\n",
    "    \n",
    "    def depth(self, p):\n",
    "        if self.is_root(p):\n",
    "            return 0\n",
    "        else:\n",
    "            return 1 + self.depth(self.parent(p))\n",
    "    \n",
    "    def _height1(self):\n",
    "        return max(self.depth(p) for p in self.positions if self.is_leaf(p))\n",
    "        \n",
    "    def _height2(self, p):\n",
    "        if self.is_leaf(p):\n",
    "            return 0\n",
    "        else:\n",
    "            return 1 + max(self._hegiht2(c) for c in self.children(p))\n",
    "    \n",
    "    def height(self, p=None):\n",
    "        if p is None:\n",
    "            p = self.root()\n",
    "        return self._height2(p)"
   ]
  },
  {
   "cell_type": "code",
   "execution_count": 28,
   "metadata": {},
   "outputs": [],
   "source": [
    "class BinaryTree(Tree):\n",
    "    \"\"\"Abstract base class representing a binary tree structure.\"\"\"\n",
    "    \n",
    "    @abstractmethod\n",
    "    def left(self, p):\n",
    "        \"\"\"Return a Position representing p's left child.\n",
    "        \n",
    "        Return None if p does not have a left child.\n",
    "        \"\"\"\n",
    "        pass\n",
    "    \n",
    "    @abstractmethod\n",
    "    def right(self, p):\n",
    "        \"\"\"Return a Position representing p's right child.\n",
    "        \n",
    "        Return None if p does not have a right child.\n",
    "        \"\"\"\n",
    "        pass\n",
    "    \n",
    "    def sibling(self, p):\n",
    "        \"\"\"Return a Position representing p's sibling (or None if no sibling).\"\"\"\n",
    "        parent = self.parent(p)\n",
    "        if parent is None:\n",
    "            return None\n",
    "        else:\n",
    "            if p == self.left(parent):\n",
    "                return self.right(parent)\n",
    "            else:\n",
    "                return self.left(parent)\n",
    "            \n",
    "    def children(self, p):\n",
    "        \"\"\"Generate an iteration of Positions representing p's children.\"\"\"\n",
    "        if self.left(p) is not None:\n",
    "            yield self.left(p)\n",
    "        \n",
    "        if self.right(p) is not None:\n",
    "            yield self.right(p)"
   ]
  },
  {
   "cell_type": "code",
   "execution_count": 29,
   "metadata": {},
   "outputs": [],
   "source": [
    "class LinkedBinaryTree(BinaryTree):\n",
    "    \"\"\"Linked representation of a binary tree structure.\"\"\"\n",
    "\n",
    "    class _Node:\n",
    "        __slots__ = '_element', '_parent', '_left', '_right'\n",
    "\n",
    "        def __init__(self, element, parent=None, left=None, right=None):\n",
    "            self._element = element\n",
    "            self._parent = parent\n",
    "            self._left = left\n",
    "            self._right = right\n",
    "\n",
    "    \n",
    "    class Position(BinaryTree.Position):\n",
    "        \"\"\"An abstraction representing the location of a single element.\"\"\"\n",
    "\n",
    "        def __init__(self, container, node):\n",
    "            \"\"\"Constructor should not be invoked by user.\"\"\"\n",
    "            self._container = container\n",
    "            self._node = node\n",
    "\n",
    "        def element(self):\n",
    "            return self._node._element\n",
    "\n",
    "        \n",
    "        def __eq__(self, other):\n",
    "            return type(other) is type(self) and other._node is self._node\n",
    "\n",
    "    def _validate(self, p):\n",
    "        \"\"\"Return associated node, if position is valid.\"\"\"\n",
    "        if not isinstance(p, self.Position):\n",
    "            raise TypeError('p must be proper Position type')\n",
    "\n",
    "        if p._container is not self:\n",
    "            raise ValueError('p does not belong to this container')\n",
    "\n",
    "        if p._node._parent is p._node:\n",
    "            raise ValueError('p is no longer valid')\n",
    "            return p._node\n",
    "        return p._node\n",
    "\n",
    "    def _make_position(self, node):\n",
    "        \"\"\"Return Position instance for given node (or None if no node).\"\"\"\n",
    "        return self.Position(self, node) if node is not None else None\n",
    "\n",
    "\n",
    "    def __init__(self):\n",
    "        \"\"\"Create an intially empty binary tree.\"\"\"\n",
    "        self._root = None\n",
    "        self._size = 0\n",
    "        self._positions = []\n",
    "    \n",
    "\n",
    "    def __len__(self):\n",
    "        \"\"\"Return the total number of elements in the tree.\"\"\"\n",
    "        return self._size\n",
    "\n",
    "    def root(self):\n",
    "        \"\"\"Return the root Position of the tree (or None if tree is empty).\"\"\"\n",
    "        return self._make_position(self._root)\n",
    "\n",
    "    @property\n",
    "    def positions(self):\n",
    "        return self._positions\n",
    "    \n",
    "    def parent(self, p):\n",
    "        \"\"\"Return the Position of p's parent(or None if p is root).\"\"\"\n",
    "        node = self._validate(p)\n",
    "        return self._make_position(node._parent)\n",
    "\n",
    "\n",
    "    def left(self, p):\n",
    "        \"\"\"Return the Position of p's left child(or NOne if no left child).\"\"\"\n",
    "        node = self._validate(p)\n",
    "        return self._make_position(node._left)\n",
    "\n",
    "    def right(self, p):\n",
    "        \"\"\"Return the Position of p's left child(or NOne if no left child).\"\"\"\n",
    "        node = self._validate(p)\n",
    "        return self._make_position(node._right)\n",
    "\n",
    "    def num_children(self, p):\n",
    "        \"\"\"Return the number of children of Position p.\"\"\"\n",
    "        node = self._validate(p)\n",
    "        count = 0\n",
    "        if node._left is not None:\n",
    "            count += 1\n",
    "        if node._right is not None:\n",
    "            count += 1\n",
    "        return count\n",
    "\n",
    "    def _add_root(self, e):\n",
    "        \"\"\"Place element e at the root of an empty tree and return new Position.\n",
    "\n",
    "        Raise ValueError if tree nonempty.\n",
    "        \"\"\"\n",
    "\n",
    "        if self._root is not None: raise ValueError('Root exists')\n",
    "        self._size = 1\n",
    "        self._root = self._Node(e)\n",
    "        pos = self._make_position(self._root)\n",
    "        self._positions.append(pos)\n",
    "        return pos\n",
    "\n",
    "    def _add_left(self, p, e):\n",
    "        \"\"\"Create a new left child for Position p, storing element e.\n",
    "        \n",
    "        Return the Position of new node\n",
    "        Raise ValueError if Position p is invalidor p already has a left child.\n",
    "        \"\"\"\n",
    "\n",
    "        node = self._validate(p)\n",
    "        if node._right is not None: raise ValueError('Left child exists')\n",
    "        self._size += 1\n",
    "        node._left = self._Node(e, node)\n",
    "        pos = self._make_position(node._left)\n",
    "        self._positions.append(pos)\n",
    "        return pos \n",
    "\n",
    "    def _add_right(self, p, e):\n",
    "        \"\"\"Create a new right child for Position p, storing element e.\n",
    "        \n",
    "        Return the Position of new node\n",
    "        Raise ValueError if Position p is invalid or p already has a right child.\n",
    "        \"\"\"\n",
    "\n",
    "        node = self._validate(p)\n",
    "        if node._right is not None: raise ValueError('Right child exists')\n",
    "        self._size += 1\n",
    "        node._right = self._Node(e, node)\n",
    "        pos = self._make_position(node._right)\n",
    "        self._positions.append(pos)\n",
    "        return pos\n",
    "\n",
    "\n",
    "    def _replace(self, p, e):\n",
    "        \"\"\"Replace the element at position p with e, and return old element.\"\"\"\n",
    "        node = self._validate(p)\n",
    "        old = node._element\n",
    "        node._element = e\n",
    "        return old\n",
    "\n",
    "    def _delete(self, p):\n",
    "        \"\"\"Delete the node at Position p, and replace it with its child, if any..git/\n",
    "\n",
    "        Return the element that had been stored at Position p\n",
    "        Raise ValueError if Position p is invalid or p has two children.\n",
    "        \"\"\"\n",
    "\n",
    "        node = self._validate(p)\n",
    "        if self.num_children(p) == 2: raise ValueError('p has two children')\n",
    "        child = node._left if node._left else node._right\n",
    "        if child is not None:\n",
    "            child._parent = node._parent\n",
    "        if node is self._root:\n",
    "            self._root = child\n",
    "        else:\n",
    "            parent = node._parent\n",
    "            if node is parent._left:\n",
    "                parent._left = child\n",
    "            else:\n",
    "                parent._right = child\n",
    "        \n",
    "        self._positions.remove(p)\n",
    "        self._size -= 1\n",
    "        node._parent = node\n",
    "        return node._element\n",
    "\n",
    "    def _attach(self, p, t1, t2):\n",
    "        \"\"\"Attach trees t1 and t2 as left and right subtrees of external p.\"\"\"\n",
    "        node = self._validate(p)\n",
    "        if not self.is_leaf(p): raise ValueError('position must be leaf')\n",
    "        if not type(self) is type(t1) is type(t2):\n",
    "            raise TypeError('Tree types must match')\n",
    "        self._size += len(t1) + len(t2)\n",
    "        if not t1.is_empty():\n",
    "            t1._root._parent = node\n",
    "            node._left = t1._root\n",
    "            t1._root = None\n",
    "            t1._size = 0\n",
    "        if not t2.is_empty():\n",
    "            t2._root._parent = node\n",
    "            node._right = t2.root\n",
    "            t2._root = None\n",
    "            t2._size = 0"
   ]
  },
  {
   "cell_type": "markdown",
   "metadata": {},
   "source": [
    "Let's make helper function, which prepares the balanced tree."
   ]
  },
  {
   "cell_type": "code",
   "execution_count": 30,
   "metadata": {},
   "outputs": [],
   "source": [
    "def make_balanced_tree(tree, position, terminal_depth):\n",
    "        \n",
    "    if tree.depth(position) == terminal_depth:\n",
    "        return tree\n",
    "    \n",
    "    left_pos = tree._add_left(position, f\"left at {position.element()}\")\n",
    "    right_pos = tree._add_right(position, f\"right at {position.element()}\")\n",
    "    \n",
    "    tree = make_balanced_tree(tree, left_pos, terminal_depth)\n",
    "    tree = make_balanced_tree(tree, right_pos, terminal_depth)\n",
    "    return tree"
   ]
  },
  {
   "cell_type": "code",
   "execution_count": 31,
   "metadata": {},
   "outputs": [
    {
     "data": {
      "text/plain": [
       "<__main__.LinkedBinaryTree.Position at 0x7fca601c46d0>"
      ]
     },
     "execution_count": 31,
     "metadata": {},
     "output_type": "execute_result"
    }
   ],
   "source": [
    "# Making balanced tree.\n",
    "balanced_tree = LinkedBinaryTree()\n",
    "balanced_tree._add_root(\"root\")"
   ]
  },
  {
   "cell_type": "code",
   "execution_count": 32,
   "metadata": {},
   "outputs": [],
   "source": [
    "res_bal = make_balanced_tree(balanced_tree, balanced_tree.root(), 6)"
   ]
  },
  {
   "cell_type": "code",
   "execution_count": 33,
   "metadata": {},
   "outputs": [
    {
     "data": {
      "text/plain": [
       "127"
      ]
     },
     "execution_count": 33,
     "metadata": {},
     "output_type": "execute_result"
    }
   ],
   "source": [
    "len(res_bal)"
   ]
  },
  {
   "cell_type": "code",
   "execution_count": 34,
   "metadata": {},
   "outputs": [
    {
     "data": {
      "text/plain": [
       "127"
      ]
     },
     "execution_count": 34,
     "metadata": {},
     "output_type": "execute_result"
    }
   ],
   "source": [
    "len(res_bal.positions)"
   ]
  },
  {
   "cell_type": "code",
   "execution_count": 35,
   "metadata": {},
   "outputs": [
    {
     "data": {
      "text/plain": [
       "6"
      ]
     },
     "execution_count": 35,
     "metadata": {},
     "output_type": "execute_result"
    }
   ],
   "source": [
    "res_bal._height1()"
   ]
  },
  {
   "cell_type": "markdown",
   "metadata": {},
   "source": [
    "Let's implement another helper function, which generates left-skewed tree."
   ]
  },
  {
   "cell_type": "code",
   "execution_count": 36,
   "metadata": {},
   "outputs": [],
   "source": [
    "def make_left_skewed_tree(tree, position, terminal_depth):\n",
    "    if tree.depth(position) == terminal_depth:\n",
    "        return tree\n",
    "    \n",
    "    left_pos = tree._add_left(position, f\"left at {position.element()}\")\n",
    "    tree = make_left_skewed_tree(tree, left_pos, terminal_depth)\n",
    "    return tree"
   ]
  },
  {
   "cell_type": "code",
   "execution_count": 37,
   "metadata": {},
   "outputs": [
    {
     "data": {
      "text/plain": [
       "<__main__.LinkedBinaryTree.Position at 0x7fca24d19c40>"
      ]
     },
     "execution_count": 37,
     "metadata": {},
     "output_type": "execute_result"
    }
   ],
   "source": [
    "# Making left skewed tree.\n",
    "skewed_tree = LinkedBinaryTree()\n",
    "skewed_tree._add_root(\"root\")"
   ]
  },
  {
   "cell_type": "code",
   "execution_count": 38,
   "metadata": {},
   "outputs": [],
   "source": [
    "res_skew = make_left_skewed_tree(skewed_tree, skewed_tree.root(), 1)"
   ]
  },
  {
   "cell_type": "code",
   "execution_count": 39,
   "metadata": {},
   "outputs": [
    {
     "data": {
      "text/plain": [
       "2"
      ]
     },
     "execution_count": 39,
     "metadata": {},
     "output_type": "execute_result"
    }
   ],
   "source": [
    "len(res_skew)"
   ]
  },
  {
   "cell_type": "markdown",
   "metadata": {},
   "source": [
    "To test emprically, let's prepare different set of trees."
   ]
  },
  {
   "cell_type": "code",
   "execution_count": 40,
   "metadata": {},
   "outputs": [
    {
     "data": {
      "text/plain": [
       "[0, 1, 2, 3, 4, 5, 6, 7, 8, 9, 10, 11, 12, 13]"
      ]
     },
     "execution_count": 40,
     "metadata": {},
     "output_type": "execute_result"
    }
   ],
   "source": [
    "testing_depths = list(range(0, 14))\n",
    "testing_depths"
   ]
  },
  {
   "cell_type": "code",
   "execution_count": 41,
   "metadata": {},
   "outputs": [],
   "source": [
    "balanced_trees = []\n",
    "for terminal_depth in testing_depths:\n",
    "    bal_tree = LinkedBinaryTree()\n",
    "    bal_tree._add_root(\"root\")\n",
    "    res_tree = make_balanced_tree(bal_tree, bal_tree.root(), terminal_depth)\n",
    "    balanced_trees.append(res_tree)"
   ]
  },
  {
   "cell_type": "code",
   "execution_count": 42,
   "metadata": {},
   "outputs": [
    {
     "data": {
      "text/plain": [
       "16383"
      ]
     },
     "execution_count": 42,
     "metadata": {},
     "output_type": "execute_result"
    }
   ],
   "source": [
    "len(balanced_trees[-1])"
   ]
  },
  {
   "cell_type": "code",
   "execution_count": 43,
   "metadata": {},
   "outputs": [
    {
     "data": {
      "text/plain": [
       "13"
      ]
     },
     "execution_count": 43,
     "metadata": {},
     "output_type": "execute_result"
    }
   ],
   "source": [
    "balanced_trees[-1]._height1()"
   ]
  },
  {
   "cell_type": "code",
   "execution_count": 44,
   "metadata": {},
   "outputs": [],
   "source": [
    "skewed_trees = []\n",
    "for terminal_depth in testing_depths:\n",
    "    skew_tree = LinkedBinaryTree()\n",
    "    skew_tree._add_root(\"root\")\n",
    "    res_tree = make_left_skewed_tree(skew_tree, skew_tree.root(), terminal_depth)\n",
    "    skewed_trees.append(res_tree)"
   ]
  },
  {
   "cell_type": "code",
   "execution_count": 45,
   "metadata": {},
   "outputs": [
    {
     "data": {
      "text/plain": [
       "14"
      ]
     },
     "execution_count": 45,
     "metadata": {},
     "output_type": "execute_result"
    }
   ],
   "source": [
    "len(skewed_trees[-1])"
   ]
  },
  {
   "cell_type": "code",
   "execution_count": 21,
   "metadata": {},
   "outputs": [
    {
     "data": {
      "text/plain": [
       "15"
      ]
     },
     "execution_count": 21,
     "metadata": {},
     "output_type": "execute_result"
    }
   ],
   "source": [
    "skewed_trees[-1]._height1()"
   ]
  },
  {
   "cell_type": "code",
   "execution_count": 47,
   "metadata": {},
   "outputs": [],
   "source": [
    "balanced_time = []\n",
    "\n",
    "for bal_tree in balanced_trees:\n",
    "    start = time.time()\n",
    "    max_depth = bal_tree._height1()\n",
    "    end = time.time()\n",
    "    balanced_time.append(end-start)"
   ]
  },
  {
   "cell_type": "code",
   "execution_count": 48,
   "metadata": {},
   "outputs": [
    {
     "data": {
      "text/plain": [
       "[1.5497207641601562e-05,\n",
       " 1.049041748046875e-05,\n",
       " 2.0503997802734375e-05,\n",
       " 4.935264587402344e-05,\n",
       " 0.00011944770812988281,\n",
       " 0.00031685829162597656,\n",
       " 0.0007193088531494141,\n",
       " 0.001514434814453125,\n",
       " 0.004346132278442383,\n",
       " 0.008836984634399414,\n",
       " 0.02006983757019043,\n",
       " 0.0433351993560791,\n",
       " 0.08761024475097656,\n",
       " 0.1796879768371582]"
      ]
     },
     "execution_count": 48,
     "metadata": {},
     "output_type": "execute_result"
    }
   ],
   "source": [
    "balanced_time"
   ]
  },
  {
   "cell_type": "code",
   "execution_count": 49,
   "metadata": {},
   "outputs": [],
   "source": [
    "skewed_time = []\n",
    "\n",
    "for skew_tree in skewed_trees:\n",
    "    start = time.time()\n",
    "    max_depth = skew_tree._height1()\n",
    "    end = time.time()\n",
    "    skewed_time.append(end-start)"
   ]
  },
  {
   "cell_type": "code",
   "execution_count": 50,
   "metadata": {},
   "outputs": [
    {
     "data": {
      "text/plain": [
       "[1.5497207641601562e-05,\n",
       " 6.67572021484375e-06,\n",
       " 7.3909759521484375e-06,\n",
       " 8.821487426757812e-06,\n",
       " 1.049041748046875e-05,\n",
       " 1.2159347534179688e-05,\n",
       " 3.075599670410156e-05,\n",
       " 2.2172927856445312e-05,\n",
       " 2.193450927734375e-05,\n",
       " 2.4080276489257812e-05,\n",
       " 2.6464462280273438e-05,\n",
       " 2.8133392333984375e-05,\n",
       " 3.0517578125e-05,\n",
       " 3.266334533691406e-05]"
      ]
     },
     "execution_count": 50,
     "metadata": {},
     "output_type": "execute_result"
    }
   ],
   "source": [
    "skewed_time"
   ]
  },
  {
   "cell_type": "code",
   "execution_count": 51,
   "metadata": {},
   "outputs": [
    {
     "data": {
      "text/plain": [
       "Text(0, 0.5, 'Elapsed Time')"
      ]
     },
     "execution_count": 51,
     "metadata": {},
     "output_type": "execute_result"
    },
    {
     "data": {
      "image/png": "[encoded data removed]",
      "text/plain": [
       "<Figure size 432x288 with 1 Axes>"
      ]
     },
     "metadata": {
      "needs_background": "light"
     },
     "output_type": "display_data"
    }
   ],
   "source": [
    "plt.plot(balanced_time, label=\"Balanced tree\")\n",
    "plt.plot(skewed_time, label=\"Skewed tree (left)\")\n",
    "plt.legend()\n",
    "plt.grid()\n",
    "plt.xlabel(\"Depth of Tree\")\n",
    "plt.ylabel(\"Elapsed Time\")"
   ]
  },
  {
   "cell_type": "code",
   "execution_count": null,
   "metadata": {},
   "outputs": [],
   "source": []
  },
  {
   "cell_type": "code",
   "execution_count": null,
   "metadata": {},
   "outputs": [],
   "source": []
  }
 ],
 "metadata": {
  "kernelspec": {
   "display_name": "Python 3",
   "language": "python",
   "name": "python3"
  },
  "language_info": {
   "codemirror_mode": {
    "name": "ipython",
    "version": 3
   },
   "file_extension": ".py",
   "mimetype": "text/x-python",
   "name": "python",
   "nbconvert_exporter": "python",
   "pygments_lexer": "ipython3",
   "version": "3.8.3"
  }
 },
 "nbformat": 4,
 "nbformat_minor": 4
}
